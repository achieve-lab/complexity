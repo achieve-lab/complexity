{
 "cells": [
  {
   "cell_type": "code",
   "execution_count": 67,
   "id": "404c3ac7",
   "metadata": {},
   "outputs": [
    {
     "name": "stdout",
     "output_type": "stream",
     "text": [
      "The autoreload extension is already loaded. To reload it, use:\n",
      "  %reload_ext autoreload\n"
     ]
    }
   ],
   "source": [
    "%load_ext autoreload"
   ]
  },
  {
   "cell_type": "code",
   "execution_count": 68,
   "id": "6be6068a",
   "metadata": {
    "scrolled": true
   },
   "outputs": [],
   "source": [
    "%autoreload\n",
    "import torch\n",
    "from thop import profile\n",
    "from thop import clever_format\n",
    "\n",
    "result_dict = {}"
   ]
  },
  {
   "cell_type": "markdown",
   "id": "7f4a1c86",
   "metadata": {},
   "source": [
    "# 4LIF_CNN"
   ]
  },
  {
   "cell_type": "code",
   "execution_count": 69,
   "id": "6ae219a0",
   "metadata": {},
   "outputs": [
    {
     "name": "stdout",
     "output_type": "stream",
     "text": [
      "SCNN_Model_4LIF(\n",
      "  (task_0): Linear(in_features=50, out_features=10, bias=True)\n",
      "  (task_1): Linear(in_features=50, out_features=10, bias=True)\n",
      "  (conv1): Conv2d(1, 40, kernel_size=(3, 3), stride=(1, 1), padding=(1, 1))\n",
      "  (conv2): Conv2d(40, 40, kernel_size=(3, 3), stride=(1, 1), padding=(1, 1))\n",
      "  (fc): Linear(in_features=3240, out_features=50, bias=True)\n",
      ")\n",
      "[INFO] Register count_linear() for <class 'torch.nn.modules.linear.Linear'>.\n",
      "[INFO] Register count_convNd() for <class 'torch.nn.modules.conv.Conv2d'>.\n",
      "torch.Size([1, 3240])\n",
      "unoptimized ops (use thop pkg): 77.145M MACs\n",
      "[spike op:] add: 79.08835 M ADDops; mul: 80.0604 M MULops\n"
     ]
    }
   ],
   "source": [
    "%autoreload\n",
    "from fourLIF_conv import SCNN_Model_4LIF\n",
    "model = SCNN_Model_4LIF(2,win=15)\n",
    "input = torch.randn(1, 1, 36, 36)\n",
    "macs, params = profile(model, inputs=(input,))\n",
    "macs, params = clever_format([macs, params], \"%.3f\")\n",
    "print('unoptimized ops (use thop pkg):',macs,'MACs')\n",
    "print('[spike op:] add:',model.add_op/1e6,'M ADDops; mul:',model.mul_op/1e6,'M MULops')\n",
    "result_dict['SCNN_Model_4LIF'] = (float(model.add_op/1e6),float(model.mul_op/1e6))"
   ]
  },
  {
   "cell_type": "markdown",
   "id": "5a893dac",
   "metadata": {},
   "source": [
    "# 4LIF-FC"
   ]
  },
  {
   "cell_type": "code",
   "execution_count": 70,
   "id": "08ad9ace",
   "metadata": {
    "scrolled": true
   },
   "outputs": [
    {
     "name": "stdout",
     "output_type": "stream",
     "text": [
      "SNN_Model_4LIF(\n",
      "  (task_0): Linear(in_features=50, out_features=10, bias=True)\n",
      "  (task_1): Linear(in_features=50, out_features=10, bias=True)\n",
      "  (fc1): Linear(in_features=1296, out_features=2048, bias=True)\n",
      "  (fc): Linear(in_features=2048, out_features=50, bias=True)\n",
      ")\n",
      "[INFO] Register count_linear() for <class 'torch.nn.modules.linear.Linear'>.\n",
      "unoptimized ops (use thop pkg): 39.917M MACs\n",
      "[spike op:] add: 39.97691 M ADDops; mul: 40.00768 M MULops\n"
     ]
    }
   ],
   "source": [
    "%autoreload\n",
    "from fourLIF_fc import SNN_Model_4LIF\n",
    "\n",
    "model = SNN_Model_4LIF(2,win=15)\n",
    "input = torch.randn(1, 1, 36, 36)\n",
    "macs, params = profile(model, inputs=(input,))\n",
    "macs, params = clever_format([macs, params], \"%.3f\")\n",
    "print('unoptimized ops (use thop pkg):',macs,'MACs')\n",
    "print('[spike op:] add:',model.add_op/1e6,'M ADDops; mul:',model.mul_op/1e6,'M MULops')\n",
    "result_dict['SNN_Model_4LIF'] = (float(model.add_op/1e6),float(model.mul_op/1e6))"
   ]
  },
  {
   "cell_type": "markdown",
   "id": "5c255972",
   "metadata": {},
   "source": [
    "# LIF-CNN"
   ]
  },
  {
   "cell_type": "code",
   "execution_count": 71,
   "id": "d8d7a3ab",
   "metadata": {},
   "outputs": [
    {
     "name": "stdout",
     "output_type": "stream",
     "text": [
      "SCNN_Model_LIF(\n",
      "  (task_0): Linear(in_features=50, out_features=10, bias=True)\n",
      "  (task_1): Linear(in_features=50, out_features=10, bias=True)\n",
      "  (conv1): Conv2d(1, 10, kernel_size=(3, 3), stride=(1, 1), padding=(1, 1))\n",
      "  (conv2): Conv2d(10, 10, kernel_size=(3, 3), stride=(1, 1), padding=(1, 1))\n",
      "  (fc): Linear(in_features=810, out_features=50, bias=True)\n",
      ")\n",
      "[INFO] Register count_linear() for <class 'torch.nn.modules.linear.Linear'>.\n",
      "[INFO] Register count_convNd() for <class 'torch.nn.modules.conv.Conv2d'>.\n",
      "unoptimized ops (use thop pkg): 6.165M MACs\n",
      "[spike op:] add: 6.65005 M ADDops; mul: 6.8931 M MULops\n"
     ]
    }
   ],
   "source": [
    "%autoreload\n",
    "from LIF_conv import SCNN_Model_LIF\n",
    "\n",
    "model = SCNN_Model_LIF(2,win=15)\n",
    "input = torch.randn(1, 1, 36, 36)\n",
    "macs, params = profile(model, inputs=(input,))\n",
    "macs, params = clever_format([macs, params], \"%.3f\")\n",
    "print('unoptimized ops (use thop pkg):',macs,'MACs')\n",
    "print('[spike op:] add:',model.add_op/1e6,'M ADDops; mul:',model.mul_op/1e6,'M MULops')\n",
    "result_dict['SCNN_Model_LIF'] = (float(model.add_op/1e6),float(model.mul_op/1e6))"
   ]
  },
  {
   "cell_type": "markdown",
   "id": "b95500b3",
   "metadata": {},
   "source": [
    "# LIF-FC"
   ]
  },
  {
   "cell_type": "code",
   "execution_count": 72,
   "id": "373903b0",
   "metadata": {
    "scrolled": true
   },
   "outputs": [
    {
     "name": "stdout",
     "output_type": "stream",
     "text": [
      "SNN_Model_LIF(\n",
      "  (task_0): Linear(in_features=50, out_features=10, bias=True)\n",
      "  (task_1): Linear(in_features=50, out_features=10, bias=True)\n",
      "  (fc1): Linear(in_features=1296, out_features=512, bias=True)\n",
      "  (fc): Linear(in_features=512, out_features=50, bias=True)\n",
      ")\n",
      "[INFO] Register count_linear() for <class 'torch.nn.modules.linear.Linear'>.\n",
      "unoptimized ops (use thop pkg): 9.980M MACs\n",
      "[spike op:] add: 9.99419 M ADDops; mul: 10.00192 M MULops\n"
     ]
    }
   ],
   "source": [
    "%autoreload\n",
    "from LIF_fc import SNN_Model_LIF\n",
    "\n",
    "model = SNN_Model_LIF(2,win=15)\n",
    "input = torch.randn(1, 1, 36, 36)\n",
    "macs, params = profile(model, inputs=(input,))\n",
    "macs, params = clever_format([macs, params], \"%.3f\")\n",
    "print('unoptimized ops (use thop pkg):',macs,'MACs')\n",
    "print('[spike op:] add:',model.add_op/1e6,'M ADDops; mul:',model.mul_op/1e6,'M MULops')\n",
    "result_dict['SNN_Model_LIF'] = (float(model.add_op/1e6),float(model.mul_op/1e6))"
   ]
  },
  {
   "cell_type": "markdown",
   "id": "35a90354",
   "metadata": {},
   "source": [
    "# HH_conv"
   ]
  },
  {
   "cell_type": "code",
   "execution_count": 73,
   "id": "dfb4757d",
   "metadata": {
    "scrolled": true
   },
   "outputs": [
    {
     "name": "stdout",
     "output_type": "stream",
     "text": [
      "SCNN_Model_HH(\n",
      "  (task_0): Linear(in_features=50, out_features=10, bias=True)\n",
      "  (task_1): Linear(in_features=50, out_features=10, bias=True)\n",
      "  (fc1): HH_neuron(\n",
      "    (conv): Conv2d(1, 10, kernel_size=(3, 3), stride=(1, 1), padding=(1, 1))\n",
      "  )\n",
      "  (fc2): HH_neuron(\n",
      "    (conv): Conv2d(10, 10, kernel_size=(3, 3), stride=(1, 1), padding=(1, 1))\n",
      "  )\n",
      "  (fc_output): Linear(in_features=810, out_features=50, bias=True)\n",
      ")\n",
      "[INFO] Register count_linear() for <class 'torch.nn.modules.linear.Linear'>.\n",
      "[INFO] Register count_convNd() for <class 'torch.nn.modules.conv.Conv2d'>.\n",
      "unoptimized ops (use thop pkg): 6.165M MACs\n",
      "[spike op:] add: 9.80905 M ADDops; mul: 11.7531 M MULops\n"
     ]
    }
   ],
   "source": [
    "%autoreload\n",
    "from HH_conv import SCNN_Model_HH\n",
    "\n",
    "model = SCNN_Model_HH(2,win=15)\n",
    "input = torch.randn(1, 1, 36, 36)\n",
    "macs, params = profile(model, inputs=(input,))\n",
    "macs, params = clever_format([macs, params], \"%.3f\")\n",
    "print('unoptimized ops (use thop pkg):',macs,'MACs')\n",
    "print('[spike op:] add:',model.add_op/1e6,'M ADDops; mul:',model.mul_op/1e6,'M MULops')\n",
    "result_dict['SCNN_Model_HH'] = (float(model.add_op/1e6),float(model.mul_op/1e6))"
   ]
  },
  {
   "cell_type": "markdown",
   "id": "a930cbf3",
   "metadata": {},
   "source": [
    "# HH_fc"
   ]
  },
  {
   "cell_type": "code",
   "execution_count": 74,
   "id": "abe198d4",
   "metadata": {
    "scrolled": true
   },
   "outputs": [
    {
     "name": "stdout",
     "output_type": "stream",
     "text": [
      "SNN_Model_HH(\n",
      "  (task_0): Linear(in_features=50, out_features=10, bias=True)\n",
      "  (task_1): Linear(in_features=50, out_features=10, bias=True)\n",
      "  (fc1): HH_neuron(\n",
      "    (fc): Linear(in_features=1296, out_features=512, bias=True)\n",
      "  )\n",
      "  (fc_output): Linear(in_features=512, out_features=50, bias=True)\n",
      ")\n",
      "[INFO] Register count_linear() for <class 'torch.nn.modules.linear.Linear'>.\n",
      "unoptimized ops (use thop pkg): 9.980M MACs\n",
      "[spike op:] add: 10.09403 M ADDops; mul: 10.15552 M MULops\n"
     ]
    }
   ],
   "source": [
    "%autoreload\n",
    "from HH_fc import SNN_Model_HH\n",
    "\n",
    "model = SNN_Model_HH(2,win=15)\n",
    "input = torch.randn(1, 1, 36, 36)\n",
    "macs, params = profile(model, inputs=(input,))\n",
    "macs, params = clever_format([macs, params], \"%.3f\")\n",
    "print('unoptimized ops (use thop pkg):',macs,'MACs')\n",
    "print('[spike op:] add:',model.add_op/1e6,'M ADDops; mul:',model.mul_op/1e6,'M MULops')\n",
    "result_dict['SNN_Model_HH'] = (float(model.add_op/1e6),float(model.mul_op/1e6))"
   ]
  },
  {
   "cell_type": "markdown",
   "id": "92fe2d32",
   "metadata": {},
   "source": [
    "# LIF_HH_CONV"
   ]
  },
  {
   "cell_type": "code",
   "execution_count": 75,
   "id": "b5de32b1",
   "metadata": {
    "scrolled": true
   },
   "outputs": [
    {
     "name": "stdout",
     "output_type": "stream",
     "text": [
      "SCNN_Model_LIF_hh(\n",
      "  (task_0): Linear(in_features=50, out_features=10, bias=True)\n",
      "  (task_1): Linear(in_features=50, out_features=10, bias=True)\n",
      "  (lif_fc): Linear(in_features=3, out_features=1, bias=True)\n",
      "  (lif_4_1): lif_hh(\n",
      "    (conv1): Conv2d(1, 10, kernel_size=(3, 3), stride=(1, 1), padding=(1, 1))\n",
      "    (conv2): Conv2d(1, 10, kernel_size=(3, 3), stride=(1, 1), padding=(1, 1))\n",
      "    (conv3): Conv2d(1, 10, kernel_size=(3, 3), stride=(1, 1), padding=(1, 1))\n",
      "  )\n",
      "  (lif_4_2): lif_hh(\n",
      "    (conv1): Conv2d(10, 10, kernel_size=(3, 3), stride=(1, 1), padding=(1, 1))\n",
      "    (conv2): Conv2d(10, 10, kernel_size=(3, 3), stride=(1, 1), padding=(1, 1))\n",
      "    (conv3): Conv2d(10, 10, kernel_size=(3, 3), stride=(1, 1), padding=(1, 1))\n",
      "  )\n",
      "  (fc): Linear(in_features=3240, out_features=50, bias=True)\n",
      ")\n",
      "[INFO] Register count_linear() for <class 'torch.nn.modules.linear.Linear'>.\n",
      "[INFO] Register count_convNd() for <class 'torch.nn.modules.conv.Conv2d'>.\n",
      "unoptimized ops (use thop pkg): 19.263M MACs\n",
      "[spike op:] add: 21.20575 M ADDops; mul: 22.032 M MULops\n"
     ]
    }
   ],
   "source": [
    "%autoreload\n",
    "from thop import profile\n",
    "from thop import clever_format\n",
    "from LIF_hh_conv import SCNN_Model_LIF_hh\n",
    "\n",
    "model = SCNN_Model_LIF_hh(2,win=15)\n",
    "inputs = torch.randn(1, 1, 36, 36)\n",
    "macs, params = profile(model, inputs=(inputs,))\n",
    "macs, params = clever_format([macs, params], \"%.3f\")\n",
    "print('unoptimized ops (use thop pkg):',macs,'MACs')\n",
    "print('[spike op:] add:',model.add_op/1e6,'M ADDops; mul:',model.mul_op/1e6,'M MULops')\n",
    "result_dict['SCNN_Model_LIF_hh'] = (float(model.add_op/1e6),float(model.mul_op/1e6))"
   ]
  },
  {
   "cell_type": "markdown",
   "id": "eec43f51",
   "metadata": {},
   "source": [
    "# LIF_HH_FC"
   ]
  },
  {
   "cell_type": "code",
   "execution_count": 76,
   "id": "77cef2b5",
   "metadata": {},
   "outputs": [
    {
     "name": "stdout",
     "output_type": "stream",
     "text": [
      "SNN_Model_LIF_hh(\n",
      "  (task_0): Linear(in_features=50, out_features=10, bias=True)\n",
      "  (task_1): Linear(in_features=50, out_features=10, bias=True)\n",
      "  (fc_output): Linear(in_features=2048, out_features=50, bias=True)\n",
      "  (lif_4): lif_hh(\n",
      "    (fc1): Linear(in_features=1296, out_features=512, bias=True)\n",
      "    (fc2): Linear(in_features=1296, out_features=512, bias=True)\n",
      "    (fc3): Linear(in_features=1296, out_features=512, bias=True)\n",
      "    (lif_fc): Linear(in_features=3, out_features=1, bias=True)\n",
      "  )\n",
      ")\n",
      "[INFO] Register count_linear() for <class 'torch.nn.modules.linear.Linear'>.\n",
      "unoptimized ops (use thop pkg): 29.986M MACs\n",
      "[spike op:] add: 30.04667 M ADDops; mul: 30.07744 M MULops\n"
     ]
    }
   ],
   "source": [
    "%autoreload\n",
    "from LIF_hh_fc import SNN_Model_LIF_hh\n",
    "\n",
    "model = SNN_Model_LIF_hh(2,win=15)\n",
    "input = torch.randn(1, 1, 36, 36)\n",
    "macs, params = profile(model, inputs=(input,))\n",
    "macs, params = clever_format([macs, params], \"%.3f\")\n",
    "print('unoptimized ops (use thop pkg):',macs,'MACs')\n",
    "print('[spike op:] add:',model.add_op/1e6,'M ADDops; mul:',model.mul_op/1e6,'M MULops')\n",
    "result_dict['SNN_Model_LIF_hh'] = (float(model.add_op/1e6),float(model.mul_op/1e6))"
   ]
  },
  {
   "cell_type": "code",
   "execution_count": 77,
   "id": "a54e8415",
   "metadata": {},
   "outputs": [
    {
     "name": "stdout",
     "output_type": "stream",
     "text": [
      "{'SCNN_Model_4LIF': (79.08835, 80.0604), 'SNN_Model_4LIF': (39.97691, 40.00768), 'SCNN_Model_LIF': (6.65005, 6.8931), 'SNN_Model_LIF': (9.99419, 10.00192), 'SCNN_Model_HH': (9.80905, 11.7531), 'SNN_Model_HH': (10.09403, 10.15552), 'SCNN_Model_LIF_hh': (21.20575, 22.032), 'SNN_Model_LIF_hh': (30.04667, 30.07744)}\n"
     ]
    },
    {
     "data": {
      "image/png": "[encoded data removed]",
      "text/plain": [
       "<Figure size 432x288 with 1 Axes>"
      ]
     },
     "metadata": {
      "needs_background": "light"
     },
     "output_type": "display_data"
    }
   ],
   "source": [
    "import matplotlib.pyplot as plt\n",
    "import numpy as np\n",
    "print(result_dict)\n",
    "\n",
    "#准备数据\n",
    "\n",
    "X = np.arange(4)\n",
    "fig = plt.figure()\n",
    "#添加子图区域\n",
    "ax = fig.add_axes([0,0,1,1])\n",
    "#绘制柱状图\n",
    "\n",
    "index = []\n",
    "label = []\n",
    "count= 0\n",
    "color_dict = [[0.6980,0.2588,0.2549],\n",
    "    [0.7961,0.4314,0.4549],\n",
    "    [0.9098,0.6627,0.6510],\n",
    "    [0.1333,0.1412,0.2863],\n",
    "    [0.2549,0.2980,0.5294],\n",
    "    [0.6118,0.7020,0.8314]]\n",
    "color1 = color_dict[5]\n",
    "color2 = color_dict[0]\n",
    "for key in result_dict:\n",
    "\n",
    "    data = result_dict[key]\n",
    "    if count ==0:\n",
    "        ax.bar(count - 0.125, data[0], color = color1, width = 0.25, label = 'ADD ops')\n",
    "        ax.bar(count + 0.125, data[1], color = color2, width = 0.25, label = 'MUL ops')\n",
    "    else:\n",
    "        ax.bar(count - 0.125, data[0], color = color1, width = 0.25)\n",
    "        ax.bar(count + 0.125, data[1], color = color2, width = 0.25)\n",
    "    \n",
    "    index.append(count)\n",
    "    label.append(key)\n",
    "    count +=1\n",
    "    \n",
    "plt.xticks(index, label, rotation=30, fontsize=14)\n",
    "plt.ylim(1,100)\n",
    "plt.yticks(fontsize=14)\n",
    "plt.yscale(\"log\")\n",
    "plt.legend(fontsize=14)\n",
    "plt.ylabel(\"M FLOPs\", fontsize=17)\n",
    "plt.title(\"FLOPs\",fontsize=20,family='Arial')\n",
    "#plt.show()\n",
    "plt.savefig(\"result.svg\",bbox_inches = 'tight')"
   ]
  },
  {
   "cell_type": "code",
   "execution_count": null,
   "id": "9a29c75c",
   "metadata": {},
   "outputs": [],
   "source": []
  }
 ],
 "metadata": {
  "kernelspec": {
   "display_name": "hlx",
   "language": "python",
   "name": "python3"
  },
  "language_info": {
   "codemirror_mode": {
    "name": "ipython",
    "version": 3
   },
   "file_extension": ".py",
   "mimetype": "text/x-python",
   "name": "python",
   "nbconvert_exporter": "python",
   "pygments_lexer": "ipython3",
   "version": "3.8.12"
  },
  "vscode": {
   "interpreter": {
    "hash": "4ebc295fc4bb810405ff19b69dfeb46bffd5126d14328725ab891517662cb3a2"
   }
  }
 },
 "nbformat": 4,
 "nbformat_minor": 5
}
